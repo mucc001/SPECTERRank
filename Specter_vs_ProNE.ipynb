{
 "cells": [
  {
   "cell_type": "code",
   "execution_count": 32,
   "id": "2f555cf3-7fcd-4595-82bf-fc9324d36c51",
   "metadata": {},
   "outputs": [],
   "source": [
    "import pandas as pd\n",
    "import math\n",
    "from sklearn.metrics.pairwise import cosine_similarity\n",
    "import numpy as np\n",
    "from sklearn.metrics.pairwise import cosine_similarity"
   ]
  },
  {
   "cell_type": "code",
   "execution_count": 2,
   "id": "14030625-6136-461f-8d06-9c681b0263d2",
   "metadata": {},
   "outputs": [],
   "source": [
    "citation_prediction = pd.read_json('/scratch/sun.jiam/scirepeval_data/test/scidocs/view_cite_read/cite/test_qrel.jsonl', lines=True)"
   ]
  },
  {
   "cell_type": "code",
   "execution_count": 3,
   "id": "1f9bc5b7-08ae-4d08-aecb-0c6c8079173b",
   "metadata": {},
   "outputs": [],
   "source": [
    "citation_meta = pd.read_json('/scratch/sun.jiam/scirepeval_data/test/scidocs/view_cite_read/meta.jsonl', lines=True)"
   ]
  },
  {
   "cell_type": "code",
   "execution_count": 4,
   "id": "07f89ef5-da33-46c9-aa28-6a73cd02db18",
   "metadata": {},
   "outputs": [
    {
     "data": {
      "text/plain": [
       "(142009, 8)"
      ]
     },
     "execution_count": 4,
     "metadata": {},
     "output_type": "execute_result"
    }
   ],
   "source": [
    "citation_meta.shape"
   ]
  },
  {
   "cell_type": "code",
   "execution_count": 5,
   "id": "ef05a224-d399-4341-bb78-1430055dafcd",
   "metadata": {},
   "outputs": [
    {
     "data": {
      "text/plain": [
       "(29928, 3)"
      ]
     },
     "execution_count": 5,
     "metadata": {},
     "output_type": "execute_result"
    }
   ],
   "source": [
    "citation_prediction.shape"
   ]
  },
  {
   "cell_type": "code",
   "execution_count": 6,
   "id": "b36003d2-b402-4fa4-8df5-2e23bc51bcfd",
   "metadata": {},
   "outputs": [],
   "source": [
    "def get_query_candidates(df):\n",
    "    positive_candidates = {}\n",
    "    all_candidates = {}\n",
    "    for query, query_df in df.groupby('query_id'):\n",
    "        positive_candidates[query] = query_df[query_df['score'] == 1]['cand_id'].tolist()\n",
    "        all_candidates[query] = query_df['cand_id'].tolist()\n",
    "    return positive_candidates, all_candidates"
   ]
  },
  {
   "cell_type": "code",
   "execution_count": 7,
   "id": "5f35669d-0520-4d59-86e1-fef7df6151cd",
   "metadata": {},
   "outputs": [],
   "source": [
    "# Key: query_id Value: positive_candidates, all_candidates \n",
    "positive_candidates, all_candidates = get_query_candidates(citation_prediction)"
   ]
  },
  {
   "cell_type": "code",
   "execution_count": 8,
   "id": "175b48cb-aecb-4ee5-b188-95af497f1e78",
   "metadata": {},
   "outputs": [],
   "source": [
    "test_queries_id = citation_prediction['query_id'].unique().tolist()"
   ]
  },
  {
   "cell_type": "code",
   "execution_count": 9,
   "id": "ea934ba3-9ee4-471f-b232-12af6060b045",
   "metadata": {},
   "outputs": [],
   "source": [
    "kwc_dir = '/work/k.church/sun.jiam/scirepeval_data/test/scidocs/view_cite_read/cite/'"
   ]
  },
  {
   "cell_type": "code",
   "execution_count": 10,
   "id": "b698a1b1-2a53-4794-a0e7-4fd41dce4e9d",
   "metadata": {},
   "outputs": [],
   "source": [
    "specter_embeddings_kwc = np.load(kwc_dir+'ids2.out.corpusId.specter.npy')"
   ]
  },
  {
   "cell_type": "code",
   "execution_count": 11,
   "id": "ef0a9627-4efd-48f7-8950-c0fe26dec686",
   "metadata": {},
   "outputs": [],
   "source": [
    "proposed_embeddings_kwc = np.load(kwc_dir+'ids2.out.corpusId.proposed.npy')"
   ]
  },
  {
   "cell_type": "code",
   "execution_count": 12,
   "id": "bf5403ac-699e-4927-986e-f0bbfa063a44",
   "metadata": {},
   "outputs": [],
   "source": [
    "kwc_ids = np.load(kwc_dir+'ids2.out.ss.npy')"
   ]
  },
  {
   "cell_type": "code",
   "execution_count": 13,
   "id": "965e163c-0ce9-4989-a073-b1e59037820e",
   "metadata": {},
   "outputs": [
    {
     "name": "stdout",
     "output_type": "stream",
     "text": [
      "97\n"
     ]
    }
   ],
   "source": [
    "# Get specter embeddings\n",
    "specter_embeddings_dict = {}\n",
    "count = 0\n",
    "for query_id, candidates in all_candidates.items():\n",
    "    embeddings_dict = {}\n",
    "    for candidate in candidates:\n",
    "        embed_index = np.where(kwc_ids == candidate)\n",
    "        if not np.size(embed_index) == 0: \n",
    "            embedding = specter_embeddings_kwc[embed_index[0][0]]\n",
    "            embeddings_dict[candidate] = embedding\n",
    "        else:\n",
    "            count += 1\n",
    "    specter_embeddings_dict[query_id] = embeddings_dict\n",
    "print(count)"
   ]
  },
  {
   "cell_type": "code",
   "execution_count": 14,
   "id": "901dd3cb-8317-47b7-b560-c2cfb0730216",
   "metadata": {},
   "outputs": [
    {
     "data": {
      "text/plain": [
       "29831"
      ]
     },
     "execution_count": 14,
     "metadata": {},
     "output_type": "execute_result"
    }
   ],
   "source": [
    "temp_len = 0 \n",
    "for k, v in specter_embeddings_dict.items():\n",
    "    temp_len += len(v)\n",
    "temp_len"
   ]
  },
  {
   "cell_type": "code",
   "execution_count": 15,
   "id": "e38615ce-d6d0-4ebc-b33f-6e7dae9cc25d",
   "metadata": {},
   "outputs": [
    {
     "name": "stdout",
     "output_type": "stream",
     "text": [
      "0bf046038a555bc848030a28530f9836e5611b96\n",
      "64334ac9dfb59d68380784e3b1ad197511850921\n",
      "e414ba960ee2a385b6800f2086209c711cc3b48b\n",
      "3\n"
     ]
    }
   ],
   "source": [
    "# Get specter embeddings\n",
    "query_specter_embeddings_dict = {}\n",
    "count = 0\n",
    "for query_id, candidates in all_candidates.items():\n",
    "    embed_index = np.where(kwc_ids == query_id)\n",
    "    if not np.size(embed_index) == 0: \n",
    "        embedding = specter_embeddings_kwc[embed_index[0][0]]\n",
    "        query_specter_embeddings_dict[query_id] = embedding\n",
    "    else:\n",
    "        count += 1\n",
    "        print(query_id)\n",
    "print(count)"
   ]
  },
  {
   "cell_type": "code",
   "execution_count": 16,
   "id": "a2c1c603-4cc9-4dff-9cfa-e30c00ce6908",
   "metadata": {},
   "outputs": [],
   "source": [
    "# queries: key: query_id, value: embeddings\n",
    "# candidates: key: query_id, value: dict(paper_id: embeddins)\n",
    "def rank_embeddings(queries, candidates, test_queries_id):\n",
    "    rankings = {} # store the rankings for each query\n",
    "    for qid in test_queries_id:\n",
    "        if qid in queries:\n",
    "            qemb = queries[qid]\n",
    "        else:\n",
    "            continue\n",
    "        rankings[qid] = {}\n",
    "        for pid, pemb in candidates[qid].items():\n",
    "            qemb = np.array(qemb)\n",
    "            pemb = np.array(pemb)\n",
    "            dist = np.linalg.norm(qemb - pemb) # calculate L2 distance\n",
    "            rankings[qid][pid] = dist\n",
    "        # sort the papers by distance (in ascending order) and return the sorted list\n",
    "        rankings[qid] = sorted(rankings[qid].items(), key=lambda x: x[1])\n",
    "    result = []\n",
    "    for k, v in rankings.items():\n",
    "        temp = []\n",
    "        for doc_id, score in v:\n",
    "            temp.append(doc_id)\n",
    "        result.append(temp)\n",
    "    return result"
   ]
  },
  {
   "cell_type": "code",
   "execution_count": 17,
   "id": "d21b21ae-4b15-4969-ac5e-29f90dbcf33f",
   "metadata": {},
   "outputs": [],
   "source": [
    "def calculate_map(relevant_docs, retrieval_results):\n",
    "    \"\"\"\n",
    "    Calculates the mean average precision (MAP) given a list of relevant documents\n",
    "    and a list of retrieval results.\n",
    "    \n",
    "    Inputs:\n",
    "    relevant_docs: A list of lists, where each inner list contains the relevant\n",
    "                          document IDs for a query.\n",
    "    retrieval_results: A list of lists, where each inner list contains the\n",
    "                              document IDs retrieved by a model for a query.\n",
    "    \n",
    "    return: The mean average precision (MAP).\n",
    "    \"\"\"\n",
    "    average_precision = 0\n",
    "    num_queries = len(relevant_docs)\n",
    "    \n",
    "    for i in range(num_queries):\n",
    "        query_rel_docs = relevant_docs[i]\n",
    "        query_ret_results = retrieval_results[i]\n",
    "        \n",
    "        precision_at_k = []\n",
    "        num_rel_docs = 0\n",
    "        \n",
    "        for k in range(len(query_ret_results)):\n",
    "            if query_ret_results[k] in query_rel_docs:\n",
    "                num_rel_docs += 1\n",
    "                precision_at_k.append(num_rel_docs / (k + 1))\n",
    "        \n",
    "        if len(precision_at_k) > 0:\n",
    "            average_precision += sum(precision_at_k) / len(precision_at_k)\n",
    "    \n",
    "    mean_average_precision = average_precision / num_queries\n",
    "    return mean_average_precision"
   ]
  },
  {
   "cell_type": "code",
   "execution_count": 18,
   "id": "e4e76c17-f79a-47d5-b23b-5f36c6d9bbcb",
   "metadata": {},
   "outputs": [],
   "source": [
    "ranking_results = rank_embeddings(query_specter_embeddings_dict, specter_embeddings_dict, test_queries_id)"
   ]
  },
  {
   "cell_type": "code",
   "execution_count": 19,
   "id": "8cc2a9cf-98ae-4dd2-8ece-c00fdace0d72",
   "metadata": {},
   "outputs": [],
   "source": [
    "relevant_docs = []\n",
    "excluded_queries = ['0bf046038a555bc848030a28530f9836e5611b96',\n",
    "                   '64334ac9dfb59d68380784e3b1ad197511850921',\n",
    "                   'e414ba960ee2a385b6800f2086209c711cc3b48b']\n",
    "\n",
    "for k in test_queries_id: \n",
    "    if k in excluded_queries:\n",
    "        continue\n",
    "    temp = positive_candidates[k]\n",
    "    relevant_docs.append(temp)"
   ]
  },
  {
   "cell_type": "code",
   "execution_count": 20,
   "id": "db49b640-c509-4dc8-86bc-95db00533bb6",
   "metadata": {},
   "outputs": [
    {
     "data": {
      "text/plain": [
       "0.8840620933090274"
      ]
     },
     "execution_count": 20,
     "metadata": {},
     "output_type": "execute_result"
    }
   ],
   "source": [
    "score = calculate_map(relevant_docs, ranking_results)\n",
    "score"
   ]
  },
  {
   "cell_type": "markdown",
   "id": "326fc34f-93f0-4dad-9183-ac14287cd703",
   "metadata": {},
   "source": [
    "### Rank With ProNE"
   ]
  },
  {
   "cell_type": "code",
   "execution_count": 21,
   "id": "a60fadf5-e739-44ac-a216-bb6d0c147a9c",
   "metadata": {},
   "outputs": [
    {
     "name": "stdout",
     "output_type": "stream",
     "text": [
      "97\n"
     ]
    }
   ],
   "source": [
    "# Get proposed embeddings\n",
    "count = 0\n",
    "proposed_embeddings_dict = {}\n",
    "for query_id, candidates in all_candidates.items():\n",
    "    embeddings_dict = {}\n",
    "    for candidate in candidates:\n",
    "        embed_index = np.where(kwc_ids == candidate)\n",
    "        if not np.size(embed_index) == 0: \n",
    "            embedding = proposed_embeddings_kwc[embed_index[0][0]]\n",
    "            embeddings_dict[candidate] = embedding\n",
    "        else:\n",
    "            count += 1\n",
    "    proposed_embeddings_dict[query_id] = embeddings_dict\n",
    "print(count)"
   ]
  },
  {
   "cell_type": "code",
   "execution_count": 22,
   "id": "bfb378fc-676f-4f0e-a346-ddd95fb33233",
   "metadata": {},
   "outputs": [
    {
     "name": "stdout",
     "output_type": "stream",
     "text": [
      "0bf046038a555bc848030a28530f9836e5611b96\n",
      "64334ac9dfb59d68380784e3b1ad197511850921\n",
      "e414ba960ee2a385b6800f2086209c711cc3b48b\n",
      "3\n"
     ]
    }
   ],
   "source": [
    "# Get proposed embeddings for queries\n",
    "count = 0\n",
    "query_proposed_embeddings_dict = {}\n",
    "for query_id, candidates in all_candidates.items():\n",
    "    embed_index = np.where(kwc_ids == query_id)\n",
    "    if not np.size(embed_index) == 0: \n",
    "        embedding = proposed_embeddings_kwc[embed_index[0][0]]\n",
    "        query_proposed_embeddings_dict[query_id] = embedding\n",
    "    else:\n",
    "        count += 1\n",
    "        print(query_id)\n",
    "print(count)"
   ]
  },
  {
   "cell_type": "code",
   "execution_count": 23,
   "id": "36cf6166-06b0-4cbe-ba04-3f7c53686da1",
   "metadata": {},
   "outputs": [],
   "source": [
    "ranking_results = rank_embeddings(query_proposed_embeddings_dict, proposed_embeddings_dict, test_queries_id)"
   ]
  },
  {
   "cell_type": "code",
   "execution_count": 24,
   "id": "3b84a21c-f3bf-49d4-be8d-99c09956fa11",
   "metadata": {},
   "outputs": [],
   "source": [
    "relevant_docs = []\n",
    "excluded_queries = ['0bf046038a555bc848030a28530f9836e5611b96',\n",
    "                   '64334ac9dfb59d68380784e3b1ad197511850921',\n",
    "                   'e414ba960ee2a385b6800f2086209c711cc3b48b']\n",
    "\n",
    "for k in test_queries_id: \n",
    "    if k in excluded_queries:\n",
    "        continue\n",
    "    temp = positive_candidates[k]\n",
    "    relevant_docs.append(temp)"
   ]
  },
  {
   "cell_type": "code",
   "execution_count": 25,
   "id": "f5274f13-a48f-4ea4-86e1-20db22c9b293",
   "metadata": {},
   "outputs": [
    {
     "data": {
      "text/plain": [
       "0.9051770683156085"
      ]
     },
     "execution_count": 25,
     "metadata": {},
     "output_type": "execute_result"
    }
   ],
   "source": [
    "score = calculate_map(relevant_docs, ranking_results)\n",
    "score"
   ]
  },
  {
   "cell_type": "markdown",
   "id": "e7d56d75-d4b5-4d48-a156-03d1516d18c8",
   "metadata": {},
   "source": [
    "### Combined metric"
   ]
  },
  {
   "cell_type": "code",
   "execution_count": 26,
   "id": "badf2325-af06-4c20-bf6a-6dc54eb2889e",
   "metadata": {},
   "outputs": [],
   "source": [
    "# queries: key: query_id, value: embeddings\n",
    "# candidates: key: query_id, value: dict(paper_id: embeddins)\n",
    "def rank_combined_embeddings(queries, candidates, candidates_two, test_queries_id):\n",
    "    rankings = {} # store the rankings for each query\n",
    "    for qid in test_queries_id:\n",
    "        if qid in queries:\n",
    "            qemb = queries[qid]\n",
    "        else:\n",
    "            continue\n",
    "        rankings[qid] = {}\n",
    "        for pid, pemb in candidates[qid].items():\n",
    "            qemb = np.array(qemb)\n",
    "            pemb = np.array(pemb)\n",
    "            dist = np.linalg.norm(qemb - pemb) # calculate L2 distance\n",
    "            rankings[qid][pid] = dist\n",
    "            \n",
    "        for pid, pemb in candidates_two[qid].items():\n",
    "            qemb = np.array(qemb)\n",
    "            pemb = np.array(pemb)\n",
    "            dist2 = np.linalg.norm(qemb - pemb) # calculate L2 distance\n",
    "            rankings[qid][pid] = (rankings[qid][pid], dist2)\n",
    "        for alpha in range(1, 10):\n",
    "            alpha /= 10 \n",
    "            total_score = alpha*harmonic_centralities[i][doc_id]+(1-alpha)*SPECTER_score\n",
    "            # sort the papers by distance (in ascending order) and return the sorted list\n",
    "            rankings[qid] = sorted(rankings[qid].items(), key=lambda x: x[1])\n",
    "    result = []\n",
    "    for k, v in rankings.items():\n",
    "        temp = []\n",
    "        for doc_id, score in v:\n",
    "            temp.append(doc_id)\n",
    "        result.append(temp)\n",
    "    return result"
   ]
  },
  {
   "cell_type": "code",
   "execution_count": 36,
   "id": "169f7317-a739-4551-91bf-e0d80c9ed72d",
   "metadata": {},
   "outputs": [],
   "source": [
    "# queries: key: query_id, value: embeddings\n",
    "# candidates: key: query_id, value: dict(paper_id: embeddins)\n",
    "def get_l2_scores(query_emb, candidates_dict):\n",
    "    result = {}\n",
    "    for pid, pemb in candidates_dict.items():\n",
    "        query_emb = np.array(query_emb)\n",
    "        pemb = np.array(pemb)\n",
    "        #dist = np.linalg.norm(query_emb  - pemb)\n",
    "        dist = cosine_similarity([query_emb], [pemb])\n",
    "        result[pid] = dist\n",
    "    return result"
   ]
  },
  {
   "cell_type": "code",
   "execution_count": 28,
   "id": "b989a9b1-fcb0-4b92-a8bc-fb6480d4a553",
   "metadata": {},
   "outputs": [],
   "source": [
    "def rank_combined(SPECTER_scores_dict, proposed_scores_dict):\n",
    "    results = []\n",
    "    for alpha in range(1, 10):\n",
    "        alpha /= 10\n",
    "        epoch_result = []\n",
    "        for i in range(len(SPECTER_scores_dict)):\n",
    "            doc_id_score_dict = SPECTER_scores_dict[i]\n",
    "            id_score = [('', 0) for _ in range (len(doc_id_score_dict))]\n",
    "            for j, (doc_id, SPECTER_score) in enumerate(doc_id_score_dict.items()):\n",
    "                #print(j)\n",
    "                #print((proposed_scores_dict[j]))\n",
    "                \n",
    "                total_score = alpha*proposed_scores_dict[i][doc_id]+(1-alpha)*SPECTER_score\n",
    "                # else:\n",
    "                #     total_score = (1-alpha)*SPECTER_score\n",
    "                id_score[j] = (doc_id, total_score)\n",
    "            id_score = sorted(id_score, key=lambda x: x[1], reverse=True)\n",
    "            epoch_result.append([id_score[i][0] for i in range(5)]) \n",
    "        results.append(epoch_result)\n",
    "    return results"
   ]
  },
  {
   "cell_type": "code",
   "execution_count": 29,
   "id": "0376ff6e-fcc0-484a-9a6c-17edfdad6978",
   "metadata": {},
   "outputs": [],
   "source": [
    "def combined_final_result(test_queries_id, query_embeddings_dict, positive_candidates, specter_embeddings_dict, \n",
    "                          proposed_embeddings_dict, proposed_query_embeddings_dict):\n",
    "    retrieval_results_SPECTER = []\n",
    "    retrieval_results_proposed = []\n",
    "    relevant_docs = []\n",
    "    scores = []\n",
    "    for query_id in test_queries_id:\n",
    "        if query_id in query_embeddings_dict:\n",
    "            retrieved = get_l2_scores(query_embeddings_dict[query_id], specter_embeddings_dict[query_id])\n",
    "            retrieval_results_SPECTER.append(retrieved)\n",
    "            retrieved_proposed = get_l2_scores(proposed_query_embeddings_dict[query_id], proposed_embeddings_dict[query_id])\n",
    "            retrieval_results_proposed.append(retrieved_proposed)\n",
    "            relevant_docs.append(positive_candidates[query_id])\n",
    "    retrieval_results = rank_combined(retrieval_results_SPECTER, retrieval_results_proposed)\n",
    "    for retrieval_result in retrieval_results:\n",
    "        score = calculate_map(relevant_docs, retrieval_result)\n",
    "        scores.append(score)\n",
    "    return scores"
   ]
  },
  {
   "cell_type": "code",
   "execution_count": 37,
   "id": "48ef9e75-6f5d-4a46-8b2b-c7b871ffdb45",
   "metadata": {},
   "outputs": [
    {
     "name": "stdout",
     "output_type": "stream",
     "text": [
      "Re-ranking model MAP score is:  [0.9474297893681066, 0.9513847096846108, 0.9540092499721404, 0.9573498272595583, 0.9571366878413037, 0.9563551766410362, 0.9569165830825831, 0.9550498718377377, 0.9534311267134766]\n"
     ]
    }
   ],
   "source": [
    "\n",
    "combined_result = combined_final_result(test_queries_id, query_specter_embeddings_dict, positive_candidates, specter_embeddings_dict, proposed_embeddings_dict,\n",
    "                                       query_proposed_embeddings_dict)\n",
    "\n",
    "print(\"Re-ranking model MAP score is: \", combined_result)"
   ]
  },
  {
   "cell_type": "code",
   "execution_count": null,
   "id": "5b31091b-65cc-42af-9b64-f766fafdc144",
   "metadata": {},
   "outputs": [],
   "source": []
  }
 ],
 "metadata": {
  "kernelspec": {
   "display_name": "Python 3 (ipykernel)",
   "language": "python",
   "name": "python3"
  },
  "language_info": {
   "codemirror_mode": {
    "name": "ipython",
    "version": 3
   },
   "file_extension": ".py",
   "mimetype": "text/x-python",
   "name": "python",
   "nbconvert_exporter": "python",
   "pygments_lexer": "ipython3",
   "version": "3.9.12"
  }
 },
 "nbformat": 4,
 "nbformat_minor": 5
}
