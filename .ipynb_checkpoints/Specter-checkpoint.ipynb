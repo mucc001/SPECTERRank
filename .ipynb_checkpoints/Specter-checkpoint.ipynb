{
 "cells": [
  {
   "cell_type": "code",
   "execution_count": 212,
   "id": "cbdbaf1f",
   "metadata": {},
   "outputs": [],
   "source": [
    "import requests\n",
    "import networkx as nx\n",
    "import pandas as pd\n",
    "import math\n",
    "from sklearn.metrics.pairwise import cosine_similarity"
   ]
  },
  {
   "cell_type": "code",
   "execution_count": 121,
   "id": "e6740c8c",
   "metadata": {},
   "outputs": [],
   "source": [
    "headers = {'x-api-key': '5UgDqL5l2j4y9Di50fuPk7o0GF3ybgN83FTeEsLC'}"
   ]
  },
  {
   "cell_type": "code",
   "execution_count": 21,
   "id": "cf99147e",
   "metadata": {},
   "outputs": [],
   "source": [
    "citation_prediction = pd.read_json('test_qrel.jsonl', lines=True)"
   ]
  },
  {
   "cell_type": "code",
   "execution_count": 108,
   "id": "0e8f8df4",
   "metadata": {},
   "outputs": [],
   "source": [
    "citation_meta = pd.read_json('meta.jsonl', lines=True)"
   ]
  },
  {
   "cell_type": "code",
   "execution_count": 22,
   "id": "d2363829",
   "metadata": {},
   "outputs": [],
   "source": [
    "def get_query_candidates(df):\n",
    "    positive_candidates = {}\n",
    "    all_candidates = {}\n",
    "    for query, query_df in df.groupby('query_id'):\n",
    "        positive_candidates[query] = query_df[query_df['score'] == 1]['cand_id'].tolist()\n",
    "        all_candidates[query] = query_df['cand_id'].tolist()\n",
    "    return positive_candidates, all_candidates"
   ]
  },
  {
   "cell_type": "code",
   "execution_count": 23,
   "id": "5997f7be",
   "metadata": {},
   "outputs": [],
   "source": [
    "# Key: query_id Value: positive_candidates, all_candidates \n",
    "positive_candidates, all_candidates = get_query_candidates(citation_prediction)"
   ]
  },
  {
   "cell_type": "code",
   "execution_count": null,
   "id": "9f2082d7",
   "metadata": {},
   "outputs": [],
   "source": [
    "# Download specter embeddings from semantic scholar\n",
    "import time\n",
    "specter_embeddings = {}\n",
    "i = 0\n",
    "for query_id, candidates in all_candidates.items():\n",
    "    start = time.time()\n",
    "    embeddings_list = []\n",
    "    for candidate in candidates:\n",
    "        url = 'https://api.semanticscholar.org/graph/v1/paper/{}?fields=embedding'.format(candidate)\n",
    "        response = requests.get(url, headers=headers)\n",
    "        if response.text == '{\"message\":\"Too Many Requests\"}':\n",
    "            print(\"Too Many Requests.\")\n",
    "        embeddings_list.append(response.text)\n",
    "    specter_embeddings[query_id] = embeddings_list\n",
    "    end = time.time()\n",
    "    print(i, ' ', query_id, ' done in ', end - start)\n",
    "    i += 1"
   ]
  },
  {
   "cell_type": "code",
   "execution_count": 125,
   "id": "1472962d",
   "metadata": {},
   "outputs": [
    {
     "data": {
      "text/plain": [
       "1000"
      ]
     },
     "execution_count": 125,
     "metadata": {},
     "output_type": "execute_result"
    }
   ],
   "source": [
    "len(specter_embeddings)"
   ]
  },
  {
   "cell_type": "code",
   "execution_count": 128,
   "id": "7f4e9c7c",
   "metadata": {},
   "outputs": [],
   "source": [
    "import json \n",
    "\n",
    "temp = json.dumps(specter_embeddings)\n",
    "\n",
    "# open file for writing, \"w\" \n",
    "f = open(\"specter_embeddings_updated.json\",\"w\")\n",
    "\n",
    "# write json object to file\n",
    "f.write(temp)\n",
    "\n",
    "# close file\n",
    "f.close()"
   ]
  },
  {
   "cell_type": "code",
   "execution_count": 129,
   "id": "5dd6b068",
   "metadata": {},
   "outputs": [],
   "source": [
    "# Download specter embeddings for query papers from semantic scholar\n",
    "specter_embeddings_query = {}\n",
    "for query_id, candidates in all_candidates.items():\n",
    "        url = 'https://api.semanticscholar.org/graph/v1/paper/{}?fields=embedding'.format(query_id)\n",
    "        response = requests.get(url, headers=headers)\n",
    "        specter_embeddings_query[query_id] = response.text"
   ]
  },
  {
   "cell_type": "code",
   "execution_count": 165,
   "id": "71a76da8",
   "metadata": {},
   "outputs": [
    {
     "name": "stdout",
     "output_type": "stream",
     "text": [
      "0bf046038a555bc848030a28530f9836e5611b96\n",
      "64334ac9dfb59d68380784e3b1ad197511850921\n",
      "e414ba960ee2a385b6800f2086209c711cc3b48b\n"
     ]
    }
   ],
   "source": [
    "query_embeddings_dict = {}\n",
    "for k, v in specter_embeddings_query.items():\n",
    "    temp_dict = json.loads(v)\n",
    "    if 'embedding' not in temp_dict:\n",
    "        print(k)\n",
    "    else:\n",
    "        query_embeddings_dict[k] = json.loads(v)['embedding']['vector']"
   ]
  },
  {
   "cell_type": "code",
   "execution_count": null,
   "id": "ee7c447e",
   "metadata": {},
   "outputs": [],
   "source": [
    "specter_embeddings_dict = {}\n",
    "count = 0\n",
    "for k, v in specter_embeddings.items():\n",
    "    temp_s = {}\n",
    "    doc_id_recorder = all_candidates[k]\n",
    "    for i in range(len(v)):\n",
    "        temp_dict = json.loads(v[i])\n",
    "        if 'embedding' not in temp_dict:\n",
    "            print(v[i])\n",
    "            count += 1\n",
    "        else:\n",
    "            temp_s [doc_id_recorder[i]] = json.loads(v[i])['embedding']['vector']\n",
    "    specter_embeddings_dict[k] = temp_s  \n",
    "print(count)"
   ]
  },
  {
   "cell_type": "code",
   "execution_count": 132,
   "id": "34a8cbf6",
   "metadata": {},
   "outputs": [],
   "source": [
    "temp_query = json.dumps(specter_embeddings_query)\n",
    "\n",
    "# open file for writing, \"w\" \n",
    "f = open(\"specter_embeddings_query_updated.json\",\"w\")\n",
    "\n",
    "# write json object to file\n",
    "f.write(temp_query)\n",
    "\n",
    "# close file\n",
    "f.close()"
   ]
  },
  {
   "cell_type": "code",
   "execution_count": 155,
   "id": "75afc071",
   "metadata": {},
   "outputs": [],
   "source": [
    "test_queries_id = citation_prediction['query_id'].unique().tolist()"
   ]
  },
  {
   "cell_type": "code",
   "execution_count": 156,
   "id": "2c35a819",
   "metadata": {},
   "outputs": [],
   "source": [
    "# queries: key: query_id, value: embeddings\n",
    "# candidates: key: query_id, value: dict(paper_id: embeddins)\n",
    "def rank_SPECTER(queries, candidates, test_queries_id):\n",
    "    rankings = {} # store the rankings for each query\n",
    "    for qid in test_queries_id:\n",
    "        if qid in queries:\n",
    "            qemb = queries[qid]\n",
    "        else:\n",
    "            continue\n",
    "        rankings[qid] = {}\n",
    "        for pid, pemb in candidates[qid].items():\n",
    "            qemb = np.array(qemb)\n",
    "            pemb = np.array(pemb)\n",
    "            dist = np.linalg.norm(qemb - pemb) # calculate L2 distance\n",
    "            rankings[qid][pid] = dist\n",
    "        # sort the papers by distance (in ascending order) and return the sorted list\n",
    "        rankings[qid] = sorted(rankings[qid].items(), key=lambda x: x[1])\n",
    "    result = []\n",
    "    for k, v in rankings.items():\n",
    "        temp = []\n",
    "        for doc_id, score in v:\n",
    "            temp.append(doc_id)\n",
    "        result.append(temp)\n",
    "    return result"
   ]
  },
  {
   "cell_type": "code",
   "execution_count": 214,
   "id": "a8e82a14",
   "metadata": {},
   "outputs": [],
   "source": [
    "def rank_SPECTER_cosine(queries, candidates, test_queries_id):\n",
    "    rankings = {} # store the rankings for each query\n",
    "    for qid in test_queries_id:\n",
    "        if qid in queries:\n",
    "            qemb = queries[qid]\n",
    "        else:\n",
    "            continue\n",
    "        rankings[qid] = {}\n",
    "        for pid, pemb in candidates[qid].items():\n",
    "            qemb = np.array(qemb)\n",
    "            pemb = np.array(pemb)\n",
    "            cosine_similarity_value = cosine_similarity([qemb], [pemb])\n",
    "            rankings[qid][pid] = cosine_similarity_value\n",
    "        # sort the papers by distance (in ascending order) and return the sorted list\n",
    "        rankings[qid] = sorted(rankings[qid].items(), key=lambda x: x[1], reverse = True)\n",
    "    result = []\n",
    "    for k, v in rankings.items():\n",
    "        temp = []\n",
    "        for doc_id, score in v:\n",
    "            temp.append(doc_id)\n",
    "        result.append(temp)\n",
    "    return result"
   ]
  },
  {
   "cell_type": "code",
   "execution_count": 82,
   "id": "8d84399b",
   "metadata": {},
   "outputs": [],
   "source": [
    "def calculate_map(relevant_docs, retrieval_results):\n",
    "    \"\"\"\n",
    "    Calculates the mean average precision (MAP) given a list of relevant documents\n",
    "    and a list of retrieval results.\n",
    "    \n",
    "    Inputs:\n",
    "    relevant_docs: A list of lists, where each inner list contains the relevant\n",
    "                          document IDs for a query.\n",
    "    retrieval_results: A list of lists, where each inner list contains the\n",
    "                              document IDs retrieved by a model for a query.\n",
    "    \n",
    "    return: The mean average precision (MAP).\n",
    "    \"\"\"\n",
    "    average_precision = 0\n",
    "    num_queries = len(relevant_docs)\n",
    "    \n",
    "    for i in range(num_queries):\n",
    "        query_rel_docs = relevant_docs[i]\n",
    "        query_ret_results = retrieval_results[i]\n",
    "        \n",
    "        precision_at_k = []\n",
    "        num_rel_docs = 0\n",
    "        \n",
    "        for k in range(len(query_ret_results)):\n",
    "            if query_ret_results[k] in query_rel_docs:\n",
    "                num_rel_docs += 1\n",
    "                precision_at_k.append(num_rel_docs / (k + 1))\n",
    "        \n",
    "        if len(precision_at_k) > 0:\n",
    "            average_precision += sum(precision_at_k) / len(precision_at_k)\n",
    "    \n",
    "    mean_average_precision = average_precision / num_queries\n",
    "    return mean_average_precision"
   ]
  },
  {
   "cell_type": "code",
   "execution_count": 215,
   "id": "4657d64b",
   "metadata": {},
   "outputs": [],
   "source": [
    "ranking_results = rank_SPECTER_cosine(query_embeddings_dict, specter_embeddings_dict, test_queries_id)"
   ]
  },
  {
   "cell_type": "code",
   "execution_count": 170,
   "id": "3ec8b726",
   "metadata": {},
   "outputs": [],
   "source": [
    "relevant_docs = []\n",
    "excluded_queries = ['0bf046038a555bc848030a28530f9836e5611b96',\n",
    "                   '64334ac9dfb59d68380784e3b1ad197511850921',\n",
    "                   'e414ba960ee2a385b6800f2086209c711cc3b48b']\n",
    "\n",
    "for k in test_queries_id: \n",
    "    if k in excluded_queries:\n",
    "        continue\n",
    "    temp = positive_candidates[k]\n",
    "    relevant_docs.append(temp)"
   ]
  },
  {
   "cell_type": "code",
   "execution_count": 216,
   "id": "234c22e8",
   "metadata": {},
   "outputs": [],
   "source": [
    "score = calculate_map(relevant_docs, ranking_results)"
   ]
  },
  {
   "cell_type": "code",
   "execution_count": 217,
   "id": "6be6e051",
   "metadata": {},
   "outputs": [
    {
     "data": {
      "text/plain": [
       "0.8705778109153777"
      ]
     },
     "execution_count": 217,
     "metadata": {},
     "output_type": "execute_result"
    }
   ],
   "source": [
    "score"
   ]
  },
  {
   "cell_type": "markdown",
   "id": "4745ccbb",
   "metadata": {},
   "source": [
    "### Rerank with harmonic"
   ]
  },
  {
   "cell_type": "code",
   "execution_count": 116,
   "id": "e7ff0d13",
   "metadata": {},
   "outputs": [],
   "source": [
    "def rerank_harmonic_old(result, harmonic_centralities):\n",
    "    for i in range(len(result)):\n",
    "        papers = result[i]\n",
    "        if harmonic_centralities[i]:\n",
    "            id_score = [('', 0) for _ in range (30)]\n",
    "            for i in range(len(papers)):\n",
    "                doc_id = papers[i]\n",
    "                score = 0\n",
    "#                 print(doc_id)\n",
    "                if doc_id in harmonic_centralities[i]:\n",
    "                    score = harmonic_centralities[i][doc_id]\n",
    "                id_score[i] = (doc_id, score)\n",
    "            id_score = sorted(id_score, key=lambda x: x[1])\n",
    "            result[i] = [id_score[i][0] for i in range(5)] \n",
    "        else:\n",
    "            result[i] = papers[:5]\n",
    "    return result"
   ]
  },
  {
   "cell_type": "code",
   "execution_count": 97,
   "id": "29a2f0b2",
   "metadata": {},
   "outputs": [],
   "source": [
    "def calculate_harmonic_centralities_old(all_candidates, candidates_edges_dict):\n",
    "    result = []\n",
    "    for query_id, candidates in all_candidates.items():\n",
    "        nodes = candidates\n",
    "        edges = candidates_edges_dict[query_id]\n",
    "        \n",
    "        # Create a graph from the list of edges\n",
    "        G = nx.Graph(edges)\n",
    "    \n",
    "        # Calculate harmonic centralities for each node in the input node list\n",
    "        harmonic_centralities = nx.harmonic_centrality(G, nodes)\n",
    "        result.append(harmonic_centralities)\n",
    "        \n",
    "    return result"
   ]
  },
  {
   "cell_type": "code",
   "execution_count": 117,
   "id": "6f147955",
   "metadata": {},
   "outputs": [],
   "source": [
    "new_result = rerank_harmonic(result, harmonic_centralities)"
   ]
  },
  {
   "cell_type": "code",
   "execution_count": 120,
   "id": "9c1e0b7b",
   "metadata": {},
   "outputs": [
    {
     "data": {
      "text/plain": [
       "0.28416666666666673"
      ]
     },
     "execution_count": 120,
     "metadata": {},
     "output_type": "execute_result"
    }
   ],
   "source": [
    "calculate_map(relevant_docs, new_result)"
   ]
  },
  {
   "cell_type": "code",
   "execution_count": 175,
   "id": "98c6c696",
   "metadata": {},
   "outputs": [],
   "source": [
    "file_name = 'harmonic_centralities_no_exclusion_total.json'\n",
    "with open(file_name) as f: \n",
    "    harmonic_centralities_no_exclusion = json.load(f)"
   ]
  },
  {
   "cell_type": "code",
   "execution_count": 178,
   "id": "6ae2b703",
   "metadata": {},
   "outputs": [],
   "source": [
    "transformed_harmonic_centralities = []\n",
    "for score_dict in harmonic_centralities_no_exclusion:\n",
    "    temp_harmonic = {}\n",
    "    for key, value in score_dict.items():\n",
    "        temp_harmonic[key] = math.log(value + 3 * 10 ** -2)\n",
    "    transformed_harmonic_centralities.append(temp_harmonic)"
   ]
  },
  {
   "cell_type": "code",
   "execution_count": 197,
   "id": "c79a31bd",
   "metadata": {},
   "outputs": [],
   "source": [
    "transformed_harmonic_centralities_shortened = []\n",
    "for i in range(1000):\n",
    "    query_id = test_queries_id[i]\n",
    "    if query_id not in query_embeddings_dict:\n",
    "        continue\n",
    "    transformed_harmonic_centralities_shortened.append(transformed_harmonic_centralities[i])"
   ]
  },
  {
   "cell_type": "code",
   "execution_count": 220,
   "id": "e7f727cd",
   "metadata": {},
   "outputs": [],
   "source": [
    "# queries: key: query_id, value: embeddings\n",
    "# candidates: key: query_id, value: dict(paper_id: embeddins)\n",
    "def search_SPECTER_rerank(query_emb, candidates_dict):\n",
    "    result = {}\n",
    "    for pid, pemb in candidates_dict.items():\n",
    "        query_emb = np.array(query_emb)\n",
    "        pemb = np.array(pemb)\n",
    "        cosine_similarity_value = cosine_similarity([query_emb], [pemb])\n",
    "        result[pid] = cosine_similarity_value\n",
    "    return result"
   ]
  },
  {
   "cell_type": "code",
   "execution_count": 208,
   "id": "92be95e9",
   "metadata": {},
   "outputs": [],
   "source": [
    "def rerank_harmonic(SPECTER_retrieval_results, harmonic_centralities):\n",
    "    results = []\n",
    "    for alpha in range(1, 10):\n",
    "        alpha /= 10\n",
    "        epoch_result = []\n",
    "        for i in range(len(SPECTER_retrieval_results)):\n",
    "            doc_id_score_dict = SPECTER_retrieval_results[i]\n",
    "            id_score = [('', 0) for _ in range (len(doc_id_score_dict))]\n",
    "            for j, (doc_id, SPECTER_score) in enumerate(doc_id_score_dict.items()):\n",
    "                if doc_id in harmonic_centralities[i]:\n",
    "                    total_score = alpha*harmonic_centralities[i][doc_id]+(1-alpha)*SPECTER_score\n",
    "                else: \n",
    "                    total_score = (1-alpha) * SPECTER_score\n",
    "                id_score[j] = (doc_id, total_score)\n",
    "            id_score = sorted(id_score, key=lambda x: x[1], reverse=True)\n",
    "            epoch_result.append([id_score[i][0] for i in range(5)]) \n",
    "        results.append(epoch_result)\n",
    "    return results"
   ]
  },
  {
   "cell_type": "code",
   "execution_count": 205,
   "id": "1385ecbe",
   "metadata": {},
   "outputs": [],
   "source": [
    "def rerank_final_result(test_queries_id, query_embeddings_dict, positive_candidates, all_candidates, transformed_harmonic_centralities):\n",
    "    retrieval_results = []\n",
    "    relevant_docs = []\n",
    "    scores = []\n",
    "    for query_id in test_queries_id:\n",
    "        if query_id in query_embeddings_dict:\n",
    "            retrieved = search_SPECTER_rerank(query_embeddings_dict[query_id], all_candidates[query_id])\n",
    "            retrieval_results.append(retrieved)\n",
    "            relevant_docs.append(positive_candidates[query_id])\n",
    "    print(len(retrieval_results))\n",
    "    retrieval_results = rerank_harmonic(retrieval_results, transformed_harmonic_centralities)\n",
    "    for retrieval_result in retrieval_results:\n",
    "        score = calculate_map(relevant_docs, retrieval_result)\n",
    "        scores.append(score)\n",
    "    return scores"
   ]
  },
  {
   "cell_type": "code",
   "execution_count": 221,
   "id": "958fc6c1",
   "metadata": {},
   "outputs": [
    {
     "name": "stdout",
     "output_type": "stream",
     "text": [
      "997\n",
      "Total time used is  7.628233909606934\n",
      "Re-ranking model MAP score is:  [0.98104034325198, 0.9680931683940727, 0.9427309706898496, 0.9229870166053741, 0.9035773988632594, 0.890655299231029, 0.88037167056726, 0.8711119469519694, 0.8638345592332576]\n"
     ]
    }
   ],
   "source": [
    "start = time.time()\n",
    "rerank_result = rerank_final_result(test_queries_id, query_embeddings_dict, positive_candidates, specter_embeddings_dict, transformed_harmonic_centralities_shortened)\n",
    "end = time.time()\n",
    "print(\"Total time used is \", end - start)\n",
    "print(\"Re-ranking model MAP score is: \", rerank_result)"
   ]
  },
  {
   "cell_type": "markdown",
   "id": "0713d7f3",
   "metadata": {},
   "source": [
    "### Rerank with indegree"
   ]
  },
  {
   "cell_type": "code",
   "execution_count": 222,
   "id": "f4da09dc",
   "metadata": {},
   "outputs": [],
   "source": [
    "with open('indegree_dict.json') as f:\n",
    "    indegree_dict = json.load(f)"
   ]
  },
  {
   "cell_type": "code",
   "execution_count": 229,
   "id": "e8c06d03",
   "metadata": {},
   "outputs": [],
   "source": [
    "transformed_indegree_dict = {}\n",
    "for k, v in indegree_dict.items():\n",
    "    transformed_indegree_dict[k] = {}\n",
    "    for key, value in v.items():\n",
    "        transformed_indegree_dict[k][key] = math.log(value + 3 * 10 ** -2)"
   ]
  },
  {
   "cell_type": "code",
   "execution_count": 225,
   "id": "bfa2a88c",
   "metadata": {},
   "outputs": [],
   "source": [
    "def rerank_indegree(SPECTER_retrieval_results, indegree_dict):\n",
    "    results = []\n",
    "    for alpha in range(1, 10):\n",
    "        alpha /= 10\n",
    "        epoch_result = []\n",
    "        for i in range(len(SPECTER_retrieval_results)):\n",
    "            query_id = test_queries_id[i]\n",
    "            doc_id_score_dict = SPECTER_retrieval_results[i]\n",
    "            id_score = [('', 0) for _ in range (len(doc_id_score_dict))]\n",
    "            for j, (doc_id, SPECTER_score) in enumerate(doc_id_score_dict.items()):\n",
    "                if doc_id in indegree_dict[query_id]:\n",
    "                    total_score = alpha*indegree_dict[query_id][doc_id]+(1-alpha)*SPECTER_score\n",
    "                else: \n",
    "                    total_score = (1-alpha) * SPECTER_score\n",
    "                id_score[j] = (doc_id, total_score)\n",
    "            id_score = sorted(id_score, key=lambda x: x[1], reverse=True)\n",
    "            epoch_result.append([id_score[i][0] for i in range(5)]) \n",
    "        results.append(epoch_result)\n",
    "    return results"
   ]
  },
  {
   "cell_type": "code",
   "execution_count": 233,
   "id": "be4ea46e",
   "metadata": {},
   "outputs": [],
   "source": [
    "def rerank_final_result_indegree(test_queries_id, query_embeddings_dict, positive_candidates, all_candidates, transformed_indegree_dict):\n",
    "    retrieval_results = []\n",
    "    relevant_docs = []\n",
    "    scores = []\n",
    "    for query_id in test_queries_id:\n",
    "        if query_id in query_embeddings_dict:\n",
    "            retrieved = search_SPECTER_rerank(query_embeddings_dict[query_id], all_candidates[query_id])\n",
    "            retrieval_results.append(retrieved)\n",
    "            relevant_docs.append(positive_candidates[query_id])\n",
    "    retrieval_results = rerank_indegree(retrieval_results, transformed_indegree_dict)\n",
    "    for retrieval_result in retrieval_results:\n",
    "        score = calculate_map(relevant_docs, retrieval_result)\n",
    "        scores.append(score)\n",
    "    return scores"
   ]
  },
  {
   "cell_type": "code",
   "execution_count": 234,
   "id": "efe87a06",
   "metadata": {},
   "outputs": [
    {
     "name": "stdout",
     "output_type": "stream",
     "text": [
      "Total time used is  8.298100233078003\n",
      "Re-ranking model MAP score is:  [0.941702886437092, 0.9369720271926922, 0.9338863813663241, 0.93152791708459, 0.9302184330770118, 0.9293811991530175, 0.9286944165830856, 0.9284548088710606, 0.928045246851669]\n"
     ]
    }
   ],
   "source": [
    "start = time.time()\n",
    "rerank_result = rerank_final_result_indegree(test_queries_id, query_embeddings_dict, positive_candidates, specter_embeddings_dict, transformed_indegree_dict)\n",
    "end = time.time()\n",
    "print(\"Total time used is \", end - start)\n",
    "print(\"Re-ranking model MAP score is: \", rerank_result)"
   ]
  }
 ],
 "metadata": {
  "kernelspec": {
   "display_name": "Python 3 (ipykernel)",
   "language": "python",
   "name": "python3"
  },
  "language_info": {
   "codemirror_mode": {
    "name": "ipython",
    "version": 3
   },
   "file_extension": ".py",
   "mimetype": "text/x-python",
   "name": "python",
   "nbconvert_exporter": "python",
   "pygments_lexer": "ipython3",
   "version": "3.9.13"
  }
 },
 "nbformat": 4,
 "nbformat_minor": 5
}
